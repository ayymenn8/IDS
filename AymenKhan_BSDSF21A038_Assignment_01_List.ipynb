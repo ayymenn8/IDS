{
 "cells": [
  {
   "cell_type": "markdown",
   "id": "48147901",
   "metadata": {},
   "source": [
    "### Assignment-01 (List)\n",
    "- Change the notebook name with your name and Roll Number.\n",
    "- Try this as your own, no chatgpt (it's for your learning)\n",
    "- after completing the assignment, submit this book on google class room."
   ]
  },
  {
   "cell_type": "code",
   "execution_count": null,
   "id": "26b4d246",
   "metadata": {},
   "outputs": [],
   "source": []
  },
  {
   "cell_type": "markdown",
   "id": "4a0551ca",
   "metadata": {},
   "source": [
    "Create an empty list and print it.\n"
   ]
  },
  {
   "cell_type": "code",
   "execution_count": 1,
   "id": "d2923b71",
   "metadata": {},
   "outputs": [
    {
     "name": "stdout",
     "output_type": "stream",
     "text": [
      "[]\n"
     ]
    }
   ],
   "source": [
    "a =[]\n",
    "print(a)"
   ]
  },
  {
   "cell_type": "markdown",
   "id": "fa6b638e",
   "metadata": {},
   "source": [
    "Create a list of your favorite colors and print it.\n"
   ]
  },
  {
   "cell_type": "code",
   "execution_count": 2,
   "id": "c549875c",
   "metadata": {},
   "outputs": [
    {
     "name": "stdout",
     "output_type": "stream",
     "text": [
      "['blue', 'green', 'grey']\n"
     ]
    }
   ],
   "source": [
    "n = ['blue','green','grey']\n",
    "print(n)"
   ]
  },
  {
   "cell_type": "markdown",
   "id": "4a1371d4",
   "metadata": {},
   "source": [
    "Create a list that includes a mix of data types (integers, strings, floats).\n"
   ]
  },
  {
   "cell_type": "code",
   "execution_count": 2,
   "id": "dfc878e2",
   "metadata": {},
   "outputs": [],
   "source": [
    "s = [10, 'hello', 7.99, 'aymen', 28]"
   ]
  },
  {
   "cell_type": "markdown",
   "id": "2916cde7",
   "metadata": {},
   "source": [
    "Access the first element of a list.\n"
   ]
  },
  {
   "cell_type": "code",
   "execution_count": 4,
   "id": "a0a7b3d2",
   "metadata": {},
   "outputs": [
    {
     "data": {
      "text/plain": [
       "10"
      ]
     },
     "execution_count": 4,
     "metadata": {},
     "output_type": "execute_result"
    }
   ],
   "source": [
    "s[0]"
   ]
  },
  {
   "cell_type": "markdown",
   "id": "13b39ea7",
   "metadata": {},
   "source": [
    "Access the last element of a list."
   ]
  },
  {
   "cell_type": "code",
   "execution_count": 6,
   "id": "4f8cf5da",
   "metadata": {},
   "outputs": [
    {
     "data": {
      "text/plain": [
       "7.99"
      ]
     },
     "execution_count": 6,
     "metadata": {},
     "output_type": "execute_result"
    }
   ],
   "source": [
    "s[len(s)-1]"
   ]
  },
  {
   "cell_type": "markdown",
   "id": "ef7e0f8d",
   "metadata": {},
   "source": [
    " Access the second and third elements of a list.\n"
   ]
  },
  {
   "cell_type": "code",
   "execution_count": 7,
   "id": "e215ceed",
   "metadata": {},
   "outputs": [
    {
     "data": {
      "text/plain": [
       "('hello', 7.99)"
      ]
     },
     "execution_count": 7,
     "metadata": {},
     "output_type": "execute_result"
    }
   ],
   "source": [
    "s[1],s[2]"
   ]
  },
  {
   "cell_type": "markdown",
   "id": "16ef79f1",
   "metadata": {},
   "source": [
    "\n",
    "Slice a list to extract the first three elements.\n"
   ]
  },
  {
   "cell_type": "code",
   "execution_count": 3,
   "id": "86d94d3c",
   "metadata": {},
   "outputs": [
    {
     "data": {
      "text/plain": [
       "[10, 'hello', 7.99]"
      ]
     },
     "execution_count": 3,
     "metadata": {},
     "output_type": "execute_result"
    }
   ],
   "source": [
    "s[:3]"
   ]
  },
  {
   "cell_type": "markdown",
   "id": "717afad5",
   "metadata": {},
   "source": [
    "Slice a list to extract the last three elements.\n"
   ]
  },
  {
   "cell_type": "code",
   "execution_count": 12,
   "id": "2f79b771",
   "metadata": {},
   "outputs": [
    {
     "data": {
      "text/plain": [
       "[7.99, 'aymen', 28]"
      ]
     },
     "execution_count": 12,
     "metadata": {},
     "output_type": "execute_result"
    }
   ],
   "source": [
    "s[-3:]"
   ]
  },
  {
   "cell_type": "markdown",
   "id": "da7f582e",
   "metadata": {},
   "source": [
    "Slice a list to get every second element.\n"
   ]
  },
  {
   "cell_type": "code",
   "execution_count": 13,
   "id": "4edeea3d",
   "metadata": {},
   "outputs": [
    {
     "data": {
      "text/plain": [
       "[10, 7.99, 28]"
      ]
     },
     "execution_count": 13,
     "metadata": {},
     "output_type": "execute_result"
    }
   ],
   "source": [
    "s[::2]"
   ]
  },
  {
   "cell_type": "markdown",
   "id": "011bb9f7",
   "metadata": {},
   "source": [
    "Reverse a list using slicing."
   ]
  },
  {
   "cell_type": "code",
   "execution_count": 14,
   "id": "c11e7110",
   "metadata": {},
   "outputs": [
    {
     "data": {
      "text/plain": [
       "[28, 'aymen', 7.99, 'hello', 10]"
      ]
     },
     "execution_count": 14,
     "metadata": {},
     "output_type": "execute_result"
    }
   ],
   "source": [
    "s[::-1]"
   ]
  },
  {
   "cell_type": "markdown",
   "id": "5f45b7a8",
   "metadata": {},
   "source": [
    " Create two lists and concatenate them.\n"
   ]
  },
  {
   "cell_type": "code",
   "execution_count": 17,
   "id": "2c210b01",
   "metadata": {},
   "outputs": [
    {
     "name": "stdout",
     "output_type": "stream",
     "text": [
      "['Advance', 'Eid Mubarak']\n"
     ]
    }
   ],
   "source": [
    "ay = ['Advance']\n",
    "an = ['Eid Mubarak']\n",
    "anan = ay + an\n",
    "print(anan)"
   ]
  },
  {
   "cell_type": "markdown",
   "id": "a6c019d7",
   "metadata": {},
   "source": [
    "\n",
    "Repeat a list multiple times using the repetition operator"
   ]
  },
  {
   "cell_type": "code",
   "execution_count": 18,
   "id": "b40d10b9",
   "metadata": {},
   "outputs": [
    {
     "data": {
      "text/plain": [
       "['Advance',\n",
       " 'Eid Mubarak',\n",
       " 'Advance',\n",
       " 'Eid Mubarak',\n",
       " 'Advance',\n",
       " 'Eid Mubarak',\n",
       " 'Advance',\n",
       " 'Eid Mubarak',\n",
       " 'Advance',\n",
       " 'Eid Mubarak']"
      ]
     },
     "execution_count": 18,
     "metadata": {},
     "output_type": "execute_result"
    }
   ],
   "source": [
    "anan * 5"
   ]
  },
  {
   "cell_type": "markdown",
   "id": "0fdf9b21",
   "metadata": {},
   "source": [
    "Add a new element to the end of a list using the append() method.\n"
   ]
  },
  {
   "cell_type": "code",
   "execution_count": 26,
   "id": "86906fc9",
   "metadata": {},
   "outputs": [
    {
     "name": "stdout",
     "output_type": "stream",
     "text": [
      "['hello']\n"
     ]
    }
   ],
   "source": [
    "k = []\n",
    "k.append('hello')\n",
    "print(k)"
   ]
  },
  {
   "cell_type": "markdown",
   "id": "1812e852",
   "metadata": {},
   "source": [
    "\n",
    "Extend a list with elements from another list using the extend() method.\n"
   ]
  },
  {
   "cell_type": "code",
   "execution_count": 27,
   "id": "375a8ac2",
   "metadata": {},
   "outputs": [
    {
     "name": "stdout",
     "output_type": "stream",
     "text": [
      "['hello', 'A', 'y', 'm', 'e', 'n']\n"
     ]
    }
   ],
   "source": [
    "k.extend('Aymen')\n",
    "print(k)"
   ]
  },
  {
   "cell_type": "markdown",
   "id": "b4285741",
   "metadata": {},
   "source": [
    "Insert an element at a specific index in a list using the insert() method."
   ]
  },
  {
   "cell_type": "code",
   "execution_count": 30,
   "id": "5e5b2a93",
   "metadata": {},
   "outputs": [
    {
     "name": "stdout",
     "output_type": "stream",
     "text": [
      "['hello', 'A', 'from', 'from', 'y', 'm', 'e', 'n', 'from']\n"
     ]
    }
   ],
   "source": [
    "k.insert(2, 'from')\n",
    "print(k)"
   ]
  },
  {
   "cell_type": "markdown",
   "id": "5926ef7b",
   "metadata": {},
   "source": [
    " Remove the last element from a list using the pop() method.\n",
    "\n"
   ]
  },
  {
   "cell_type": "code",
   "execution_count": 32,
   "id": "4e3c8c6d",
   "metadata": {},
   "outputs": [
    {
     "data": {
      "text/plain": [
       "'from'"
      ]
     },
     "execution_count": 32,
     "metadata": {},
     "output_type": "execute_result"
    }
   ],
   "source": [
    "k.pop()"
   ]
  },
  {
   "cell_type": "markdown",
   "id": "34faaad1",
   "metadata": {},
   "source": [
    "Remove a specific element from a list using the remove() method.\n"
   ]
  },
  {
   "cell_type": "code",
   "execution_count": 34,
   "id": "2706c63d",
   "metadata": {},
   "outputs": [
    {
     "name": "stdout",
     "output_type": "stream",
     "text": [
      "['hello', 'A', 'y', 'm', 'e', 'n']\n"
     ]
    }
   ],
   "source": [
    "k.remove('from')\n",
    "print(k)"
   ]
  },
  {
   "cell_type": "markdown",
   "id": "b066a57c",
   "metadata": {},
   "source": [
    "Clear all elements from a list.\n"
   ]
  },
  {
   "cell_type": "code",
   "execution_count": 36,
   "id": "a4cb30f8",
   "metadata": {},
   "outputs": [
    {
     "name": "stdout",
     "output_type": "stream",
     "text": [
      "[]\n"
     ]
    }
   ],
   "source": [
    "k.clear()\n",
    "print(k)"
   ]
  },
  {
   "cell_type": "markdown",
   "id": "f9d4754d",
   "metadata": {},
   "source": [
    "Delete an element at a specific index using the del statement."
   ]
  },
  {
   "cell_type": "code",
   "execution_count": 41,
   "id": "adbc06c2",
   "metadata": {},
   "outputs": [
    {
     "name": "stdout",
     "output_type": "stream",
     "text": [
      "['from', 'y', 'm']\n"
     ]
    }
   ],
   "source": [
    "del a[0]\n",
    "print(a)"
   ]
  },
  {
   "cell_type": "markdown",
   "id": "6fda5133",
   "metadata": {},
   "source": [
    "Convert a string to a list of characters and vice-versa."
   ]
  },
  {
   "cell_type": "code",
   "execution_count": 43,
   "id": "7c9fe1dc",
   "metadata": {},
   "outputs": [
    {
     "name": "stdout",
     "output_type": "stream",
     "text": [
      "['A', 'Y', 'M', 'E', 'N']\n"
     ]
    }
   ],
   "source": [
    "l = 'AYMEN'\n",
    "char = list(l)\n",
    "print(char)"
   ]
  },
  {
   "cell_type": "markdown",
   "id": "617e14c5",
   "metadata": {},
   "source": [
    "Sort a list in ascending order using the sort() method."
   ]
  },
  {
   "cell_type": "code",
   "execution_count": 45,
   "id": "749b040c",
   "metadata": {},
   "outputs": [
    {
     "name": "stdout",
     "output_type": "stream",
     "text": [
      "['A', 'E', 'M', 'N', 'Y']\n"
     ]
    }
   ],
   "source": [
    "char.sort()\n",
    "print(char)"
   ]
  },
  {
   "cell_type": "markdown",
   "id": "8a1c1820",
   "metadata": {},
   "source": [
    "\n",
    "Sort a list in descending order using the sort() method.\n"
   ]
  },
  {
   "cell_type": "code",
   "execution_count": 46,
   "id": "9d3b86b3",
   "metadata": {},
   "outputs": [
    {
     "name": "stdout",
     "output_type": "stream",
     "text": [
      "['Y', 'N', 'M', 'E', 'A']\n"
     ]
    }
   ],
   "source": [
    "char.sort(reverse=True)\n",
    "print(char)"
   ]
  },
  {
   "cell_type": "markdown",
   "id": "04c5419a",
   "metadata": {},
   "source": [
    "Reverse the order of a list using the reverse() method.\n"
   ]
  },
  {
   "cell_type": "code",
   "execution_count": 47,
   "id": "f0eac28f",
   "metadata": {},
   "outputs": [
    {
     "name": "stdout",
     "output_type": "stream",
     "text": [
      "['A', 'E', 'M', 'N', 'Y']\n"
     ]
    }
   ],
   "source": [
    "char.reverse()\n",
    "print(char)"
   ]
  },
  {
   "cell_type": "markdown",
   "id": "ea816319",
   "metadata": {},
   "source": [
    "Check if an element is present in a list using the in operator.\n"
   ]
  },
  {
   "cell_type": "code",
   "execution_count": 50,
   "id": "db2e8041",
   "metadata": {},
   "outputs": [
    {
     "name": "stdout",
     "output_type": "stream",
     "text": [
      "['A', 'E', 'M', 'N', 'Y']\n"
     ]
    }
   ],
   "source": [
    "if 'N' in char:\n",
    "    print(char)"
   ]
  },
  {
   "cell_type": "markdown",
   "id": "f17e9e0a",
   "metadata": {},
   "source": [
    "Compare two lists to see if they are equal in both value and identity.\n"
   ]
  },
  {
   "cell_type": "code",
   "execution_count": 51,
   "id": "cc5763b1",
   "metadata": {},
   "outputs": [
    {
     "name": "stdout",
     "output_type": "stream",
     "text": [
      "equal in value\n",
      "equal in identity\n"
     ]
    }
   ],
   "source": [
    "list1 = ['Aymen', 'loves', 'car', 'rides']\n",
    "list2 = ['Aymen', 'loves', 'car', 'rides']\n",
    "if list1 == list2:\n",
    "    print(\"equal in value\")\n",
    "else:\n",
    "    print(\"not equal in value\")\n",
    "if list1 in list2:\n",
    "    print(\"equal in identity\")\n",
    "else:\n",
    "    print(\"equal in identity\")"
   ]
  },
  {
   "cell_type": "markdown",
   "id": "19d815f3",
   "metadata": {},
   "source": [
    "Create a shallow copy of a list and modify one of the lists to observe the effects on the other.\n"
   ]
  },
  {
   "cell_type": "code",
   "execution_count": 52,
   "id": "92979606",
   "metadata": {},
   "outputs": [
    {
     "name": "stdout",
     "output_type": "stream",
     "text": [
      "[1, 2, 3]\n",
      "[1, 2, 3, 4]\n"
     ]
    }
   ],
   "source": [
    "l1 = [1, 2, 3]\n",
    "l2 = l1.copy()\n",
    "l2.append(4)\n",
    "print(l1)\n",
    "print(l2)"
   ]
  },
  {
   "cell_type": "markdown",
   "id": "6c8f1702",
   "metadata": {},
   "source": [
    "Create a deep copy of a nested list and modify one of the lists to observe the effects on the other."
   ]
  },
  {
   "cell_type": "code",
   "execution_count": 53,
   "id": "87a8af6d",
   "metadata": {},
   "outputs": [
    {
     "name": "stdout",
     "output_type": "stream",
     "text": [
      "[10, ['hello', 'Aymen', 0]]\n",
      "[10, ['hello', 'Aymen']]\n"
     ]
    }
   ],
   "source": [
    "import copy\n",
    "a1 = [10, ['hello', 'Aymen']]\n",
    "a2 = copy.deepcopy(a1)\n",
    "a1[1].append(0)\n",
    "print(a1)\n",
    "print(a2)"
   ]
  },
  {
   "cell_type": "markdown",
   "id": "c52154a0",
   "metadata": {},
   "source": [
    "Pickle and Unpickle a list and display its content."
   ]
  },
  {
   "cell_type": "code",
   "execution_count": 54,
   "id": "2c97aff5",
   "metadata": {},
   "outputs": [
    {
     "name": "stdout",
     "output_type": "stream",
     "text": [
      "Unpickled list: [1, 2, 3, 4, 5]\n"
     ]
    }
   ],
   "source": [
    "import pickle\n",
    "my_list = [1, 2, 3, 4, 5]\n",
    "pickled_list = pickle.dumps(my_list)\n",
    "unpickled_list = pickle.loads(pickled_list)\n",
    "print(\"Unpickled list:\", unpickled_list)"
   ]
  },
  {
   "cell_type": "code",
   "execution_count": null,
   "id": "9415e114",
   "metadata": {},
   "outputs": [],
   "source": []
  }
 ],
 "metadata": {
  "kernelspec": {
   "display_name": "\"Python/Mu (mu_venv-38-20220120-221520)\"",
   "language": "python",
   "name": "mu_venv-38-20220120-221520"
  },
  "language_info": {
   "codemirror_mode": {
    "name": "ipython",
    "version": 3
   },
   "file_extension": ".py",
   "mimetype": "text/x-python",
   "name": "python",
   "nbconvert_exporter": "python",
   "pygments_lexer": "ipython3",
   "version": "3.8.11"
  }
 },
 "nbformat": 4,
 "nbformat_minor": 5
}
