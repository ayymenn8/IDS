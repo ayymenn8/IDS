{
 "cells": [
  {
   "cell_type": "markdown",
   "id": "829e5193",
   "metadata": {},
   "source": [
    "### Assignment-06 (Exceptions)\n",
    "- Change the notebook name with your name and Roll Number.\n",
    "- Try this as your own, no chatgpt (it's for your learning)\n",
    "- after completing the assignment, submit this book on google class room."
   ]
  },
  {
   "cell_type": "markdown",
   "id": "5020de16",
   "metadata": {},
   "source": [
    "Write a Python program that demonstrates a simple try-except block to handle a ZeroDivisionError."
   ]
  },
  {
   "cell_type": "code",
   "execution_count": 1,
   "id": "b2481e98",
   "metadata": {},
   "outputs": [
    {
     "name": "stdout",
     "output_type": "stream",
     "text": [
      "Divided by zero\n"
     ]
    }
   ],
   "source": [
    "try:\n",
    "    p=10\n",
    "    q=0\n",
    "    result = p/q\n",
    "    print(result)\n",
    "except ZeroDivisionError:\n",
    "    print(\"Divided by zero\")"
   ]
  },
  {
   "cell_type": "markdown",
   "id": "510c0b9e",
   "metadata": {},
   "source": [
    "What is the purpose of the else clause in a try-except block? Provide an example."
   ]
  },
  {
   "cell_type": "code",
   "execution_count": 4,
   "id": "19e00491",
   "metadata": {},
   "outputs": [
    {
     "name": "stdout",
     "output_type": "stream",
     "text": [
      "Division successful!\n",
      "0.5\n"
     ]
    }
   ],
   "source": [
    "try:\n",
    "    p=10\n",
    "    q=20\n",
    "    result = p/q\n",
    "except ZeroDivisionError:\n",
    "    print(\"Divided by zero\")\n",
    "else:\n",
    "    print(\"Division successful!\")\n",
    "    print(result)"
   ]
  },
  {
   "cell_type": "markdown",
   "id": "213e8438",
   "metadata": {},
   "source": [
    "Explain the role of the finally keyword in exception handling. Write a code snippet to demonstrate its use."
   ]
  },
  {
   "cell_type": "code",
   "execution_count": 5,
   "id": "4f6335f4",
   "metadata": {},
   "outputs": [
    {
     "name": "stdout",
     "output_type": "stream",
     "text": [
      "Division successful!\n",
      "0.5\n",
      "Finally block executed.\n"
     ]
    }
   ],
   "source": [
    "try:\n",
    "    p=10\n",
    "    q=20\n",
    "    result = p/q\n",
    "except ZeroDivisionError:\n",
    "    print(\"Divided by zero\")\n",
    "else:\n",
    "    print(\"Division successful!\")\n",
    "    print(result)\n",
    "finally:\n",
    "    print(\"Finally block executed.\")"
   ]
  },
  {
   "cell_type": "markdown",
   "id": "28a825cd",
   "metadata": {},
   "source": [
    "Write a program that uses a try-except block to handle a FileNotFoundError."
   ]
  },
  {
   "cell_type": "code",
   "execution_count": 6,
   "id": "a40b08be",
   "metadata": {},
   "outputs": [
    {
     "name": "stdout",
     "output_type": "stream",
     "text": [
      "Error: File not found!\n"
     ]
    }
   ],
   "source": [
    "try:\n",
    "    with open(\"filename.txt\", \"r\") as file:\n",
    "        data = file.read()\n",
    "        print(data)\n",
    "except FileNotFoundError:\n",
    "    print(\"Error: File not found!\")"
   ]
  },
  {
   "cell_type": "markdown",
   "id": "b518674e",
   "metadata": {},
   "source": [
    "Create a Python program that uses multiple except clauses to handle different types of exceptions."
   ]
  },
  {
   "cell_type": "code",
   "execution_count": 8,
   "id": "11a3e481",
   "metadata": {},
   "outputs": [
    {
     "name": "stdout",
     "output_type": "stream",
     "text": [
      "0.5\n",
      "Error: Index out of range!\n"
     ]
    }
   ],
   "source": [
    "try:\n",
    "    p=10\n",
    "    q=20\n",
    "    result = p/q\n",
    "    print(result)\n",
    "    list1 = [1, 2, 3]\n",
    "    print(list1[5])\n",
    "    dict = {\"key\": \"value\"}\n",
    "    print(dict[\"no_key\"])\n",
    "except ZeroDivisionError:\n",
    "    print(\"Error: Divided by zero!\")\n",
    "except IndexError:\n",
    "    print(\"Error: Index out of range!\")\n",
    "except KeyError:\n",
    "    print(\"Error: Key not found!\")"
   ]
  },
  {
   "cell_type": "markdown",
   "id": "37c93388",
   "metadata": {},
   "source": [
    "Implement a function that raises a custom exception if a given number is negative."
   ]
  },
  {
   "cell_type": "code",
   "execution_count": 11,
   "id": "09a7a16a",
   "metadata": {},
   "outputs": [
    {
     "name": "stdout",
     "output_type": "stream",
     "text": [
      "Error: -1 is a negative number.\n"
     ]
    }
   ],
   "source": [
    "class NegativeNumberError(Exception):\n",
    "    def __init__(self, number):\n",
    "        self.number = number\n",
    "    def __str__(self):\n",
    "        return f'Error: {self.number} is a negative number.'\n",
    "def check_number(number):\n",
    "    if number<0:\n",
    "        raise NegativeNumberError(number)\n",
    "    else:\n",
    "        print(number)\n",
    "try:\n",
    "    check_number(-1)\n",
    "except NegativeNumberError as e:\n",
    "    print(e)"
   ]
  },
  {
   "cell_type": "markdown",
   "id": "28762688",
   "metadata": {},
   "source": [
    "Write a function that uses the assert keyword to check if a given list is not empty."
   ]
  },
  {
   "cell_type": "code",
   "execution_count": 1,
   "id": "348bbe48",
   "metadata": {},
   "outputs": [
    {
     "name": "stdout",
     "output_type": "stream",
     "text": [
      "The list is not empty\n"
     ]
    },
    {
     "ename": "AssertionError",
     "evalue": "The list is empty",
     "output_type": "error",
     "traceback": [
      "\u001b[1;31m---------------------------------------------------------------------------\u001b[0m",
      "\u001b[1;31mAssertionError\u001b[0m                            Traceback (most recent call last)",
      "Input \u001b[1;32mIn [1]\u001b[0m, in \u001b[0;36m<module>\u001b[1;34m\u001b[0m\n\u001b[0;32m      5\u001b[0m \u001b[38;5;66;03m# Test the function\u001b[39;00m\n\u001b[0;32m      6\u001b[0m check_not_empty([\u001b[38;5;241m1\u001b[39m, \u001b[38;5;241m2\u001b[39m, \u001b[38;5;241m3\u001b[39m])  \u001b[38;5;66;03m# Output: The list is not empty\u001b[39;00m\n\u001b[1;32m----> 7\u001b[0m \u001b[43mcheck_not_empty\u001b[49m\u001b[43m(\u001b[49m\u001b[43m[\u001b[49m\u001b[43m]\u001b[49m\u001b[43m)\u001b[49m\n",
      "Input \u001b[1;32mIn [1]\u001b[0m, in \u001b[0;36mcheck_not_empty\u001b[1;34m(input_list)\u001b[0m\n\u001b[0;32m      1\u001b[0m \u001b[38;5;28;01mdef\u001b[39;00m \u001b[38;5;21mcheck_not_empty\u001b[39m(input_list):\n\u001b[1;32m----> 2\u001b[0m     \u001b[38;5;28;01massert\u001b[39;00m \u001b[38;5;28mlen\u001b[39m(input_list) \u001b[38;5;241m>\u001b[39m \u001b[38;5;241m0\u001b[39m, \u001b[38;5;124m\"\u001b[39m\u001b[38;5;124mThe list is empty\u001b[39m\u001b[38;5;124m\"\u001b[39m\n\u001b[0;32m      3\u001b[0m     \u001b[38;5;28mprint\u001b[39m(\u001b[38;5;124m\"\u001b[39m\u001b[38;5;124mThe list is not empty\u001b[39m\u001b[38;5;124m\"\u001b[39m)\n",
      "\u001b[1;31mAssertionError\u001b[0m: The list is empty"
     ]
    }
   ],
   "source": [
    "def check_not_empty(input_list):\n",
    "    assert len(input_list) > 0, \"The list is empty\"\n",
    "    print(\"The list is not empty\")\n",
    "\n",
    "# Test the function\n",
    "check_not_empty([1, 2, 3])  # Output: The list is not empty\n",
    "check_not_empty([])         # AssertionError: The list is empty"
   ]
  },
  {
   "cell_type": "markdown",
   "id": "f7861e8d",
   "metadata": {},
   "source": [
    "Develop a program that reads two numbers from the user and divides them. Handle different exceptions such as ZeroDivisionError and ValueError."
   ]
  },
  {
   "cell_type": "code",
   "execution_count": 14,
   "id": "ef8f7f27",
   "metadata": {},
   "outputs": [
    {
     "name": "stdout",
     "output_type": "stream",
     "text": [
      "5.0\n"
     ]
    }
   ],
   "source": [
    "try:\n",
    "    p=float(input(\"Enter a number:\"))\n",
    "    q=float(input(\"Enter a number:\"))\n",
    "    result = p/q\n",
    "    print(result)\n",
    "except ZeroDivisionError:\n",
    "    print(\"Error: Divided by zero!\")\n",
    "except ValueError:\n",
    "    print(\"Error: Invalid input!\")"
   ]
  },
  {
   "cell_type": "markdown",
   "id": "4a043e90",
   "metadata": {},
   "source": [
    "Write a function that takes a string as input and converts it to an integer. Handle the ValueError exception."
   ]
  },
  {
   "cell_type": "code",
   "execution_count": 15,
   "id": "273b88df",
   "metadata": {},
   "outputs": [
    {
     "name": "stdout",
     "output_type": "stream",
     "text": [
      "Error: Invalid input!\n"
     ]
    }
   ],
   "source": [
    "def string_to_integer(string):\n",
    "    try:\n",
    "        integer_value = int(string)\n",
    "        return integer_value\n",
    "    except ValueError:\n",
    "        print(\"Error: Invalid input!\")\n",
    "input_string = input(\"Enter a string: \")\n",
    "result = string_to_integer(input_string)\n",
    "if result is not None:\n",
    "    print(result)"
   ]
  },
  {
   "cell_type": "markdown",
   "id": "e09663a8",
   "metadata": {},
   "source": [
    "Create a program that uses the try, except, else, and finally blocks to open a file, read its contents, and print them."
   ]
  },
  {
   "cell_type": "code",
   "execution_count": 16,
   "id": "5f7daa25",
   "metadata": {},
   "outputs": [
    {
     "name": "stdout",
     "output_type": "stream",
     "text": [
      "Error: File not found!\n"
     ]
    }
   ],
   "source": [
    "try:\n",
    "    file_name = input(\"Enter file name: \")\n",
    "    file = open(file_name, \"r\")\n",
    "except FileNotFoundError:\n",
    "    print(\"Error: File not found!\")\n",
    "else:\n",
    "    contents = file.read()\n",
    "    print(\"File contents:\")\n",
    "    print(contents)\n",
    "finally:\n",
    "    if 'file' in locals():\n",
    "        file.close()\n",
    "        print(\"File closed.\")"
   ]
  },
  {
   "cell_type": "markdown",
   "id": "2f976b31",
   "metadata": {},
   "source": [
    "Define a custom exception class named CustomError. Write a program that raises this exception when a certain condition is met."
   ]
  },
  {
   "cell_type": "code",
   "execution_count": 17,
   "id": "58b2c87a",
   "metadata": {},
   "outputs": [
    {
     "name": "stdout",
     "output_type": "stream",
     "text": [
      "Error: The condition is met! x should be non-negative.\n"
     ]
    }
   ],
   "source": [
    "class CustomError(Exception):\n",
    "    def __init__(self, message):\n",
    "        self.message = message\n",
    "def check_condition(x):\n",
    "    if x < 0:\n",
    "        raise CustomError(\"Error: The condition is met! x should be non-negative.\")\n",
    "try:\n",
    "    x = int(input(\"Enter a number: \"))\n",
    "    check_condition(x)\n",
    "    print(\"No error occurred.\")\n",
    "except CustomError as e:\n",
    "    print(e)"
   ]
  },
  {
   "cell_type": "markdown",
   "id": "4718ee7b",
   "metadata": {},
   "source": [
    "Implement a function that reads a file and prints its content. If the file is not found, raise a FileNotFoundError with a custom error message."
   ]
  },
  {
   "cell_type": "code",
   "execution_count": 19,
   "id": "7d65d3f0",
   "metadata": {},
   "outputs": [
    {
     "name": "stdout",
     "output_type": "stream",
     "text": [
      "Error: hi not found!\n"
     ]
    }
   ],
   "source": [
    "try:\n",
    "    file_name = input(\"Enter the name of the file to open: \")\n",
    "    file = open(file_name, \"r\")\n",
    "except FileNotFoundError:\n",
    "    print(\"Error:\",file_name,\"not found!\")"
   ]
  },
  {
   "cell_type": "markdown",
   "id": "368cfff7",
   "metadata": {},
   "source": [
    "Develop a program that uses the assert keyword to check if a given number is positive. If not, raise an AssertionError with a custom message."
   ]
  },
  {
   "cell_type": "code",
   "execution_count": 22,
   "id": "dffe1621",
   "metadata": {},
   "outputs": [
    {
     "name": "stdout",
     "output_type": "stream",
     "text": [
      "AssertionError: -1 is not a positive number.\n"
     ]
    }
   ],
   "source": [
    "def check_number(num):\n",
    "    assert num > 0, f\"AssertionError: {num} is not a positive number.\"\n",
    "try:\n",
    "    num = int(input(\"Enter a number: \"))\n",
    "    check_number(num)\n",
    "    print(\"Number is positive:\", num)\n",
    "except AssertionError as e:\n",
    "    print(e)"
   ]
  },
  {
   "cell_type": "markdown",
   "id": "93fd3391",
   "metadata": {},
   "source": [
    "Create a function that calculates the square root of a positive number. Handle the ValueError exception if the user enters a negative number."
   ]
  },
  {
   "cell_type": "code",
   "execution_count": 23,
   "id": "33c71719",
   "metadata": {},
   "outputs": [
    {
     "name": "stdout",
     "output_type": "stream",
     "text": [
      "Error: Input must be a positive number.\n"
     ]
    }
   ],
   "source": [
    "import math\n",
    "def calculate_squareroot(number):\n",
    "    try:\n",
    "        if number < 0:\n",
    "            raise ValueError(\"Error: Input must be a positive number.\")\n",
    "        else:\n",
    "            result = math.sqrt(number)\n",
    "            return result\n",
    "    except ValueError as e:\n",
    "        print(e)\n",
    "        return None\n",
    "num = float(input(\"Enter a number: \"))\n",
    "square_root = calculate_squareroot(num)\n",
    "if square_root is not None:\n",
    "    print(\"Square root:\", square_root)"
   ]
  }
 ],
 "metadata": {
  "kernelspec": {
   "display_name": "\"Python/Mu (mu_venv-38-20220120-221520)\"",
   "language": "python",
   "name": "mu_venv-38-20220120-221520"
  },
  "language_info": {
   "codemirror_mode": {
    "name": "ipython",
    "version": 3
   },
   "file_extension": ".py",
   "mimetype": "text/x-python",
   "name": "python",
   "nbconvert_exporter": "python",
   "pygments_lexer": "ipython3",
   "version": "3.8.11"
  }
 },
 "nbformat": 4,
 "nbformat_minor": 5
}
