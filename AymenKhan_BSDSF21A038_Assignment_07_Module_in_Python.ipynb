{
 "cells": [
  {
   "cell_type": "markdown",
   "id": "779a9769",
   "metadata": {},
   "source": [
    "### Assignment-07 (Module_in_Python)\n",
    "- Change the notebook name with your name and Roll Number.\n",
    "- Try this as your own, no chatgpt (it's for your learning)\n",
    "- after completing the assignment, submit this book on google class room."
   ]
  },
  {
   "cell_type": "markdown",
   "id": "46e7a5c0",
   "metadata": {},
   "source": [
    "Explain the difference between import module and from module import *. Provide an example for each.\n"
   ]
  },
  {
   "cell_type": "code",
   "execution_count": 4,
   "id": "3e218580",
   "metadata": {},
   "outputs": [
    {
     "name": "stdout",
     "output_type": "stream",
     "text": [
      "5.0\n",
      "3.141592653589793\n",
      "5.0\n",
      "3.141592653589793\n"
     ]
    }
   ],
   "source": [
    "#import module imports the entire module.\n",
    "import math\n",
    "print(math.sqrt(25))\n",
    "print(math.pi)        \n",
    "#from module import * imports all names from the module into the current namespace.\n",
    "from math import *\n",
    "print(sqrt(25))\n",
    "print(pi)"
   ]
  },
  {
   "cell_type": "markdown",
   "id": "935bbfe7",
   "metadata": {},
   "source": [
    "What is an alias, and how can it be used while importing a module? Provide an example.\n"
   ]
  },
  {
   "cell_type": "code",
   "execution_count": 2,
   "id": "944a369c",
   "metadata": {},
   "outputs": [
    {
     "name": "stdout",
     "output_type": "stream",
     "text": [
      "5.0\n",
      "3.141592653589793\n"
     ]
    }
   ],
   "source": [
    "import math as m\n",
    "print(m.sqrt(25)) \n",
    "print(m.pi)       "
   ]
  },
  {
   "cell_type": "markdown",
   "id": "1e1d37c8",
   "metadata": {},
   "source": [
    "Demonstrate the use of the importlib module to import a module dynamically."
   ]
  },
  {
   "cell_type": "code",
   "execution_count": 3,
   "id": "cd334b12",
   "metadata": {},
   "outputs": [
    {
     "name": "stdout",
     "output_type": "stream",
     "text": [
      "5.0\n",
      "3.141592653589793\n"
     ]
    }
   ],
   "source": [
    "import importlib\n",
    "module_name = \"math\"\n",
    "math_module = importlib.import_module(module_name)\n",
    "print(math_module.sqrt(25))\n",
    "print(math_module.pi)"
   ]
  },
  {
   "cell_type": "markdown",
   "id": "520b6194",
   "metadata": {},
   "source": [
    "Implement a function that takes an angle in degrees and converts it to radians using the math module."
   ]
  },
  {
   "cell_type": "code",
   "execution_count": 2,
   "id": "944626ba",
   "metadata": {},
   "outputs": [
    {
     "name": "stdout",
     "output_type": "stream",
     "text": [
      "1.5184364492350666\n"
     ]
    }
   ],
   "source": [
    "import math\n",
    "degree = float(input(\"Enter degrees:\"))\n",
    "print(math.radians(degree))"
   ]
  },
  {
   "cell_type": "markdown",
   "id": "b81395fe",
   "metadata": {},
   "source": [
    "Create a program that simulates the rolling of a six-sided die using the random module."
   ]
  },
  {
   "cell_type": "code",
   "execution_count": 8,
   "id": "f5698b8a",
   "metadata": {},
   "outputs": [
    {
     "name": "stdout",
     "output_type": "stream",
     "text": [
      "number on die: 6\n",
      "number on die: 6\n",
      "number on die: 5\n",
      "number on die: 5\n",
      "number on die: 3\n"
     ]
    }
   ],
   "source": [
    "import random\n",
    "def roll_die():\n",
    "    return random.randint(1, 6)\n",
    "for _ in range(random.randint(1, 6)):\n",
    "    print(\"number on die:\", roll_die())"
   ]
  },
  {
   "cell_type": "markdown",
   "id": "aefd02a7",
   "metadata": {},
   "source": [
    "Implement a timer function that measures the execution time of a piece of code using the time module."
   ]
  },
  {
   "cell_type": "code",
   "execution_count": 3,
   "id": "b779c39c",
   "metadata": {},
   "outputs": [
    {
     "name": "stdout",
     "output_type": "stream",
     "text": [
      "Operation completed\n",
      "Execution time: 2.0159 seconds\n"
     ]
    }
   ],
   "source": [
    "import time\n",
    "def timer(func):\n",
    "    start_time = time.time()\n",
    "    result = func()\n",
    "    end_time = time.time()\n",
    "    execution_time = end_time - start_time\n",
    "    print(f\"Execution time: {execution_time:.4f} seconds\")\n",
    "    return result\n",
    "def example_function():\n",
    "    time.sleep(2)\n",
    "    print(\"Operation completed\")\n",
    "timer(example_function)"
   ]
  },
  {
   "cell_type": "markdown",
   "id": "6d6cdae3",
   "metadata": {},
   "source": [
    "Write a function that calculates the difference in days between two given dates using the datetime module."
   ]
  },
  {
   "cell_type": "code",
   "execution_count": 11,
   "id": "65c3ce92",
   "metadata": {},
   "outputs": [
    {
     "name": "stdout",
     "output_type": "stream",
     "text": [
      "438\n"
     ]
    }
   ],
   "source": [
    "from datetime import datetime\n",
    "def difference_in_days(date1, date2):\n",
    "    date1_obj = datetime.strptime(date1, \"%Y-%m-%d\")\n",
    "    date2_obj = datetime.strptime(date2, \"%Y-%m-%d\")\n",
    "    difference = abs((date2_obj - date1_obj).days)\n",
    "    return difference\n",
    "date1 = \"2023-01-28\"\n",
    "date2 = \"2024-04-10\"\n",
    "print(difference_in_days(date1, date2))"
   ]
  },
  {
   "cell_type": "markdown",
   "id": "729111d8",
   "metadata": {},
   "source": [
    "Implement a program that checks if a given year is a leap year using the calendar module."
   ]
  },
  {
   "cell_type": "code",
   "execution_count": 12,
   "id": "067716aa",
   "metadata": {},
   "outputs": [
    {
     "name": "stdout",
     "output_type": "stream",
     "text": [
      "2024 is a leap year.\n"
     ]
    }
   ],
   "source": [
    "import calendar\n",
    "def is_leap_year(year):\n",
    "    return calendar.isleap(year)\n",
    "year = int(input(\"Enter a year: \"))\n",
    "if is_leap_year(year):\n",
    "    print(f\"{year} is a leap year.\")\n",
    "else:\n",
    "    print(f\"{year} is not a leap year.\")"
   ]
  },
  {
   "cell_type": "markdown",
   "id": "8c4f73f2",
   "metadata": {},
   "source": [
    "Create a program that checks if a specific file exists in a given directory using the os module."
   ]
  },
  {
   "cell_type": "code",
   "execution_count": 13,
   "id": "f62123d1",
   "metadata": {},
   "outputs": [
    {
     "name": "stdout",
     "output_type": "stream",
     "text": [
      "The file hii does not exist in the directory hi.\n"
     ]
    }
   ],
   "source": [
    "import os\n",
    "def file_exists(directory, filename):\n",
    "    file_path = os.path.join(directory, filename)\n",
    "    return os.path.exists(file_path)\n",
    "directory = input(\"Enter the directory path: \")\n",
    "filename = input(\"Enter the filename: \")\n",
    "if file_exists(directory, filename):\n",
    "    print(f\"The file {filename} exists in the directory {directory}.\")\n",
    "else:\n",
    "    print(f\"The file {filename} does not exist in the directory {directory}.\")"
   ]
  },
  {
   "cell_type": "markdown",
   "id": "c1b34e47",
   "metadata": {},
   "source": [
    "Write a program that uses threading to perform parallel execution of three tasks."
   ]
  },
  {
   "cell_type": "code",
   "execution_count": 14,
   "id": "954bcf1d",
   "metadata": {},
   "outputs": [
    {
     "name": "stdout",
     "output_type": "stream",
     "text": [
      "Task 1 started\n",
      "Task 2 startedTask 3 started\n",
      "\n",
      "Task 3 completed\n",
      "Task 1 completed\n",
      "Task 2 completed\n",
      "All tasks completed\n"
     ]
    }
   ],
   "source": [
    "import threading\n",
    "import time\n",
    "def task1():\n",
    "    print(\"Task 1 started\")\n",
    "    time.sleep(2)\n",
    "    print(\"Task 1 completed\")\n",
    "def task2():\n",
    "    print(\"Task 2 started\")\n",
    "    time.sleep(3)\n",
    "    print(\"Task 2 completed\")\n",
    "def task3():\n",
    "    print(\"Task 3 started\")\n",
    "    time.sleep(1)\n",
    "    print(\"Task 3 completed\")\n",
    "thread1 = threading.Thread(target=task1)\n",
    "thread2 = threading.Thread(target=task2)\n",
    "thread3 = threading.Thread(target=task3)\n",
    "thread1.start()\n",
    "thread2.start()\n",
    "thread3.start()\n",
    "thread1.join()\n",
    "thread2.join()\n",
    "thread3.join()\n",
    "print(\"All tasks completed\")"
   ]
  },
  {
   "cell_type": "markdown",
   "id": "0fdd3e7c",
   "metadata": {},
   "source": [
    "Implement a program that downloads an image from a URL using the urllib module."
   ]
  },
  {
   "cell_type": "code",
   "execution_count": 16,
   "id": "950950d9",
   "metadata": {},
   "outputs": [
    {
     "name": "stdout",
     "output_type": "stream",
     "text": [
      "Image downloaded successfully as hi\n"
     ]
    }
   ],
   "source": [
    "import urllib.request\n",
    "def download_image(url, filename):\n",
    "    urllib.request.urlretrieve(url, filename)\n",
    "    print(f\"Image downloaded successfully as {filename}\")\n",
    "url = input(\"Enter the URL of the image: \")\n",
    "filename = input(\"Enter the filename to save the image as: \")\n",
    "download_image(url, filename)"
   ]
  }
 ],
 "metadata": {
  "kernelspec": {
   "display_name": "\"Python/Mu (mu_venv-38-20220120-221520)\"",
   "language": "python",
   "name": "mu_venv-38-20220120-221520"
  },
  "language_info": {
   "codemirror_mode": {
    "name": "ipython",
    "version": 3
   },
   "file_extension": ".py",
   "mimetype": "text/x-python",
   "name": "python",
   "nbconvert_exporter": "python",
   "pygments_lexer": "ipython3",
   "version": "3.8.11"
  }
 },
 "nbformat": 4,
 "nbformat_minor": 5
}
